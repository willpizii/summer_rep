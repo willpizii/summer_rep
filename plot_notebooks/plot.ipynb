{
 "cells": [
  {
   "cell_type": "code",
   "execution_count": 2,
   "id": "f3f12f09-1df4-436c-9fcc-7865be94b7a1",
   "metadata": {},
   "outputs": [
    {
     "name": "stderr",
     "output_type": "stream",
     "text": [
      "/opt/cray/pe/python/3.9.13.1/lib/python3.9/site-packages/scipy/__init__.py:138: UserWarning: A NumPy version >=1.16.5 and <1.23.0 is required for this version of SciPy (detected version 1.26.4)\n",
      "  warnings.warn(f\"A NumPy version >={np_minversion} and <{np_maxversion} is required for this version of \"\n"
     ]
    }
   ],
   "source": [
    "import numpy as np\n",
    "from scipy.signal.windows import cosine\n",
    "import sys\n",
    "import os\n",
    "import re\n",
    "import shutil\n",
    "import glob # gogabgalab\n",
    "from scipy.ndimage import uniform_filter\n",
    "import noise\n",
    "import pickle\n",
    "from qdyn import qdyn"
   ]
  },
  {
   "cell_type": "code",
   "execution_count": null,
   "id": "ac304f9b-6718-4c15-8dce-c4bf9079738a",
   "metadata": {},
   "outputs": [],
   "source": [
    "current_working_directory = os.getcwd()\n",
    "\n",
    "xoffset = int(re.search(r'_(\\d+)x_', current_working_directory).group(1))\n",
    "yoffset = int(re.search(r'_(\\d+)y_', current_working_directory).group(1))\n",
    "zoffset = int(re.search(r'_(\\d+)z', current_working_directory).group(1))\n",
    "\n",
    "print('x offset =', xoffset,'m, y offset =', yoffset,'m, z offset =', zoffset,'m')"
   ]
  },
  {
   "cell_type": "code",
   "execution_count": 1,
   "id": "2273f30f-8c0e-4eac-8f5c-f9211fdc00fa",
   "metadata": {},
   "outputs": [
    {
     "ename": "NameError",
     "evalue": "name 'os' is not defined",
     "output_type": "error",
     "traceback": [
      "\u001b[0;31m---------------------------------------------------------------------------\u001b[0m",
      "\u001b[0;31mNameError\u001b[0m                                 Traceback (most recent call last)",
      "Cell \u001b[0;32mIn[1], line 5\u001b[0m\n\u001b[1;32m      1\u001b[0m \u001b[38;5;124;03m\"\"\"\u001b[39;00m\n\u001b[1;32m      2\u001b[0m \u001b[38;5;124;03mOPEN OUTPUT FILES\u001b[39;00m\n\u001b[1;32m      3\u001b[0m \u001b[38;5;124;03m\"\"\"\u001b[39;00m\n\u001b[1;32m      4\u001b[0m \u001b[38;5;66;03m# Get the current working directory\u001b[39;00m\n\u001b[0;32m----> 5\u001b[0m current_working_directory \u001b[38;5;241m=\u001b[39m \u001b[43mos\u001b[49m\u001b[38;5;241m.\u001b[39mgetcwd()\n\u001b[1;32m      6\u001b[0m xoffset \u001b[38;5;241m=\u001b[39m \u001b[38;5;28mint\u001b[39m(re\u001b[38;5;241m.\u001b[39msearch(\u001b[38;5;124mr\u001b[39m\u001b[38;5;124m'\u001b[39m\u001b[38;5;124m_(\u001b[39m\u001b[38;5;124m\\\u001b[39m\u001b[38;5;124md+)x_\u001b[39m\u001b[38;5;124m'\u001b[39m)\u001b[38;5;241m.\u001b[39mgroup(\u001b[38;5;241m1\u001b[39m))\n\u001b[1;32m      8\u001b[0m \u001b[38;5;66;03m# Instantiate the QDYN class object\u001b[39;00m\n",
      "\u001b[0;31mNameError\u001b[0m: name 'os' is not defined"
     ]
    }
   ],
   "source": [
    "\"\"\"\n",
    "OPEN OUTPUT FILES\n",
    "\"\"\"\n",
    "# Instantiate the QDYN class object\n",
    "p = qdyn()\n",
    "\n",
    "for file in os.listdir():\n",
    "\n",
    "    if file.startswith(\"meshdict.pkl\"):\n",
    "        # open file with dictionary\n",
    "        dict_to_read = open(file, \"rb\")\n",
    "\n",
    "        # assign dictionary to p.mesh_dict\n",
    "        p.mesh_dict = pickle.load(dict_to_read)\n",
    "    \n",
    "    if file.startswith(\"setdict.pkl\"):\n",
    "        # open file with dictionary\n",
    "        dict_to_read = open(file, \"rb\")\n",
    "\n",
    "        # assign dictionary to p.mesh_dict\n",
    "        p.set_dict = pickle.load(dict_to_read)\n",
    "        \n",
    "# read output\n",
    "p.read_output(read_fault=True, read_ot=True, read_ox=True)"
   ]
  },
  {
   "cell_type": "code",
   "execution_count": null,
   "id": "aeab1710-f4c8-4efa-827e-f6c599a23211",
   "metadata": {},
   "outputs": [],
   "source": [
    "import matplotlib.pyplot as plt\n",
    "from matplotlib import cm\n",
    "# Get the coordinates of the elements for the output time series\n",
    "\n",
    "Nw = p.set_dict[\"NW\"]\n",
    "Nx = p.set_dict[\"NX\"]\n",
    "split = Nw // 2\n",
    "\n",
    "\n",
    "i1 = p.set_dict[\"NW\"]//4*p.set_dict[\"NX\"] - p.set_dict[\"NX\"]//2 # index of element in the center of Fault 1\n",
    "i2 = p.set_dict[\"NW\"]*3//4*p.set_dict[\"NX\"] - p.set_dict[\"NX\"]//2 # index of element in the center of Fault 1\n",
    "x1 = p.mesh_dict[\"X\"][i1] * 1e-3    \n",
    "y1 = p.mesh_dict[\"Y\"][i1] * 1e-3\n",
    "z1 = p.mesh_dict[\"Z\"][i1] * 1e-3\n",
    "\n",
    "x2 = p.mesh_dict[\"X\"][i2] * 1e-3\n",
    "y2 = p.mesh_dict[\"Y\"][i2] * 1e-3\n",
    "z2 = p.mesh_dict[\"Z\"][i2] * 1e-3\n",
    "\n",
    "# Get the mesh values and reshape them into matrices\n",
    "x = p.mesh_dict[\"X\"].reshape((Nw, Nx)) * 1e-3\n",
    "y = p.mesh_dict[\"Y\"].reshape((Nw, Nx)) * 1e-3\n",
    "z = p.mesh_dict[\"Z\"].reshape((Nw, Nx)) * 1e-3\n",
    "b = (p.mesh_dict[\"B\"]).reshape((Nw, Nx))\n",
    "aminb = (p.mesh_dict[\"A\"] - p.mesh_dict[\"B\"]).reshape((Nw, Nx))\n",
    "adivb = (p.mesh_dict[\"A\"] / p.mesh_dict[\"B\"]).reshape((Nw, Nx))\n",
    "dw = p.mesh_dict[\"DW\"].reshape((Nw, Nx))\n",
    "idx = np.arange(0,len(p.mesh_dict[\"X\"])).reshape((Nw, Nx)) # indices\n",
    "\n",
    "# Define colour scales for (a-b) and mesh spacing and indices\n",
    "vmin = 0\n",
    "vmax = abs(b.max())\n",
    "norm = cm.colors.Normalize(vmin=vmin, vmax=vmax)\n",
    "cmap = cm.BuPu\n",
    "\n",
    "\n",
    "vmin2 = -max(abs(aminb.max()),abs(aminb.min()))\n",
    "vmax2 = max(abs(aminb.max()),abs(aminb.min()))\n",
    "#vmin2 = -0.0019\n",
    "#vmax2 = 0.0019\n",
    "norm2 = cm.colors.Normalize(vmin=vmin2, vmax=vmax2)\n",
    "cmap2 = cm.coolwarm\n",
    "\n",
    "\n",
    "vmin3 = adivb.min()\n",
    "vmax3 = adivb.max()\n",
    "norm3 = cm.colors.Normalize(vmin=vmin3, vmax=vmax3)\n",
    "cmap3 = cm.Oranges\n",
    "\n",
    "vmin4 = 0\n",
    "vmax4 = abs(idx.max())\n",
    "norm4 = cm.colors.Normalize(vmin=vmin4, vmax=vmax4)\n",
    "cmap4 = cm.viridis\n",
    "\n",
    "\n",
    "plt.close(\"all\")\n",
    "fig, axes = plt.subplots(nrows=2, ncols=2, figsize=(7, 7), subplot_kw={\"projection\": \"3d\"})\n",
    "\n",
    "\n",
    "# Plot b\n",
    "ax1 = axes[0,0]\n",
    "CS = ax1.plot_surface(x[:split], y[:split], z[:split], facecolors=cmap(norm(b[:split])), antialiased=True, shade=False, zorder=2.5)\n",
    "CS2 = ax1.plot_surface(x[split:], y[split:], z[split:], facecolors=cmap(norm(b[split:])), antialiased=True, shade=False)\n",
    "cb1 = fig.colorbar(cm.ScalarMappable(norm=norm, cmap=cmap), ax=ax1, shrink=0.5, orientation=\"horizontal\", pad=-0.05)\n",
    "cb1.set_label(\"b\")\n",
    "ax1.set_title(\"b\")\n",
    "\n",
    "# Plot (a-b)\n",
    "ax2 = axes[0,1]\n",
    "CS3 = ax2.plot_surface(x[:split], y[:split], z[:split], facecolors=cmap2(norm2(aminb[:split])), antialiased=True, shade=False, zorder=2.5)\n",
    "CS4 = ax2.plot_surface(x[split:], y[split:], z[split:], facecolors=cmap2(norm2(aminb[split:])), antialiased=True, shade=False)\n",
    "cb2 = fig.colorbar(cm.ScalarMappable(norm=norm2, cmap=cmap2), ax=ax2, shrink=0.5, orientation=\"horizontal\", pad=-0.05)\n",
    "cb2.set_label(\"(a-b)\")\n",
    "ax2.set_title(\"(a-b) values\")\n",
    "\n",
    "# Plot (a/b)\n",
    "ax3 = axes[1,0]\n",
    "CS6 = ax3.plot_surface(x[split:], y[split:], z[split:], facecolors=cmap3(norm3(adivb[split:])), antialiased=True, shade=False, zorder=2.5)\n",
    "CS5 = ax3.plot_surface(x[:split], y[:split], z[:split], facecolors=cmap3(norm3(adivb[:split])), antialiased=True, shade=False)\n",
    "\n",
    "cb2 = fig.colorbar(cm.ScalarMappable(norm=norm3, cmap=cmap3), ax=ax3, shrink=0.5, orientation=\"horizontal\", pad=-0.05)\n",
    "cb2.set_label(\"a/b\")\n",
    "ax3.set_title(\"a/b\")\n",
    "\n",
    "\n",
    "# Plot mesh spacing (note that this is a binary distribution) + elements of output series\n",
    "ax4 = axes[1,1]\n",
    "P1 = ax4.scatter(x1,y1,z1, s=100, c= \"red\")\n",
    "# P2 = ax4.scatter(x2,y2,z2, s=100, c = \"grey\")\n",
    "MS = ax4.plot_surface(x[:split], y[:split], z[:split], facecolors=cmap4(norm4(idx[:split])), antialiased=True, shade=False, alpha=.1, zorder=2.5)\n",
    "MS2 = ax4.plot_surface(x[split:], y[split:], z[split:], facecolors=cmap4(norm4(idx[split:])), antialiased=True, shade=False, alpha=.1)\n",
    "cb3 = fig.colorbar(cm.ScalarMappable(norm=norm4, cmap=cmap4), ax=ax4, shrink=0.5, orientation=\"horizontal\", pad=-0.05)\n",
    "cb3.set_label(\"N element\")\n",
    "ax4.set_title(\"element spacing\")\n",
    "\n",
    "# Decorate axes and set initial viewing angles\n",
    "for row in axes:\n",
    "    for ax in row:\n",
    "        ax.set_xlabel(\"x [km]\")\n",
    "        ax.set_ylabel(\"y [km]\")\n",
    "        ax.set_zlabel(\"depth [km]\")\n",
    "        ax.view_init(elev=10, azim=-60)\n",
    "        ax.set_box_aspect([2,2,1])\n",
    "\n",
    "fig.tight_layout()\n",
    "plt.show()"
   ]
  },
  {
   "cell_type": "code",
   "execution_count": null,
   "id": "f14174e6-eaf4-499d-a9b7-ee4151eb81d8",
   "metadata": {},
   "outputs": [],
   "source": [
    "from qdyn import plot_functions as qdyn_plot\n",
    "from qdyn.utils import post_processing\n",
    "from qdyn.utils.post_processing.compute_events import compute_events as compute_events\n",
    "\n",
    "qdyn_plot.timeseries(p.ot, p.ot_vmax)"
   ]
  },
  {
   "cell_type": "code",
   "execution_count": null,
   "id": "dc11653f-badd-4db2-8e58-e0bfe0e586c8",
   "metadata": {},
   "outputs": [],
   "source": [
    "model_dict_ =  compute_events(p.set_dict, p.mesh_dict, p.fault, vmax=0.002)"
   ]
  },
  {
   "cell_type": "code",
   "execution_count": null,
   "id": "49a56201-1e13-4779-bce5-9ec3a0821a93",
   "metadata": {},
   "outputs": [],
   "source": [
    "props = qdyn_plot.plot_events(model_dict_, [1,2])"
   ]
  },
  {
   "cell_type": "code",
   "execution_count": null,
   "id": "4bfa91c5-7ec9-4593-9cc2-e0b310627660",
   "metadata": {},
   "outputs": [],
   "source": [
    "import pandas as pd\n",
    "\n",
    "##############################\n",
    "## COMBINE OUTPUT SNAPSHOTS ##\n",
    "##############################\n",
    "\n",
    "# initialise and merge the two with ox_max\n",
    "ox_max = p.ox\n",
    "\n",
    "# if there are overlapping indices, sum the slip\n",
    "ox_max_grouped = ox_max.groupby(['t', 'x', 'z'], as_index=False)['slip'].sum()\n",
    "\n",
    "# Merge the summed 'v' values back to the original DataFrame\n",
    "ox_max_final = pd.merge(ox_max_grouped, ox_max.drop(columns=['slip']), on=['t', 'x', 'z'], how='left')\n",
    "\n",
    "# Drop duplicate rows to keep only one row per 't', 'x', 'z' combination\n",
    "ox_max_final = ox_max_final.sort_values(by=['t', 'x', 'z', 'v'], ascending=[True, True, True, False])\n",
    "ox_max_final = ox_max_final.drop_duplicates(subset=['t', 'x', 'z'])"
   ]
  },
  {
   "cell_type": "code",
   "execution_count": null,
   "id": "e1d77e09-1ce6-4d1d-ad65-1276e2b4d275",
   "metadata": {},
   "outputs": [],
   "source": [
    "qdyn_plot.slip_profile(ox_max_final[(ox_max_final[\"z\"] == -0.445606126784E+04)], warm_up=0, orientation=\"horizontal\")"
   ]
  },
  {
   "cell_type": "code",
   "execution_count": null,
   "id": "b4ace3f0-cc01-4805-828c-c2045e6b9520",
   "metadata": {},
   "outputs": [],
   "source": [
    "ax = qdyn_plot.timestep_profile_all(ox_max_final[(ox_max_final[\"z\"] == -0.445606126784E+04)], p.set_dict[\"DIP_W\"], 'v', warm_up=0, orientation=\"horizontal\")"
   ]
  },
  {
   "cell_type": "code",
   "execution_count": null,
   "id": "814a30d7-1f0b-4ed9-9888-851191b125fb",
   "metadata": {},
   "outputs": [],
   "source": [
    "qdyn_plot.cv_plot(model_dict_)"
   ]
  },
  {
   "cell_type": "code",
   "execution_count": null,
   "id": "4bd105af-e9ed-4962-aaa8-b89e54bff436",
   "metadata": {},
   "outputs": [],
   "source": [
    "ax = qdyn_plot.fault_progression_plot(p, xoffset = xoffset, vmax = 1e-4, show_nucleations=True, time=[0,2000])"
   ]
  },
  {
   "cell_type": "code",
   "execution_count": null,
   "id": "f6d7e2d7-76b1-42ca-a958-3b28b7ebdf51",
   "metadata": {},
   "outputs": [],
   "source": []
  }
 ],
 "metadata": {
  "kernelspec": {
   "display_name": "Python 3 (ipykernel)",
   "language": "python",
   "name": "python3"
  },
  "language_info": {
   "codemirror_mode": {
    "name": "ipython",
    "version": 3
   },
   "file_extension": ".py",
   "mimetype": "text/x-python",
   "name": "python",
   "nbconvert_exporter": "python",
   "pygments_lexer": "ipython3",
   "version": "3.9.13"
  }
 },
 "nbformat": 4,
 "nbformat_minor": 5
}
